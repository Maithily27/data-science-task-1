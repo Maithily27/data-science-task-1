{
 "cells": [
  {
   "cell_type": "code",
   "execution_count": 1,
   "id": "fc04a881-3aad-497a-9ad2-4a7ebba0dbd8",
   "metadata": {},
   "outputs": [],
   "source": [
    "import pandas as pd\n",
    "import matplotlib.pyplot as plt\n",
    "import numpy as np"
   ]
  },
  {
   "cell_type": "code",
   "execution_count": 3,
   "id": "3452c130-6e81-4483-827c-6bf0bf61c45d",
   "metadata": {},
   "outputs": [],
   "source": [
    "df=pd.read_csv(\"Metadata_Country_API_SP.POP.TOTL_DS2_en_csv_v2_73483.csv\")"
   ]
  },
  {
   "cell_type": "code",
   "execution_count": 5,
   "id": "91cddd8b-5abb-47d0-b585-cbb79b33bfd2",
   "metadata": {},
   "outputs": [
    {
     "data": {
      "text/html": [
       "<div>\n",
       "<style scoped>\n",
       "    .dataframe tbody tr th:only-of-type {\n",
       "        vertical-align: middle;\n",
       "    }\n",
       "\n",
       "    .dataframe tbody tr th {\n",
       "        vertical-align: top;\n",
       "    }\n",
       "\n",
       "    .dataframe thead th {\n",
       "        text-align: right;\n",
       "    }\n",
       "</style>\n",
       "<table border=\"1\" class=\"dataframe\">\n",
       "  <thead>\n",
       "    <tr style=\"text-align: right;\">\n",
       "      <th></th>\n",
       "      <th>Country Code</th>\n",
       "      <th>Region</th>\n",
       "      <th>IncomeGroup</th>\n",
       "      <th>SpecialNotes</th>\n",
       "      <th>TableName</th>\n",
       "    </tr>\n",
       "  </thead>\n",
       "  <tbody>\n",
       "    <tr>\n",
       "      <th>0</th>\n",
       "      <td>ABW</td>\n",
       "      <td>Latin America &amp; Caribbean</td>\n",
       "      <td>High income</td>\n",
       "      <td>NaN</td>\n",
       "      <td>Aruba</td>\n",
       "    </tr>\n",
       "    <tr>\n",
       "      <th>1</th>\n",
       "      <td>AFE</td>\n",
       "      <td>NaN</td>\n",
       "      <td>NaN</td>\n",
       "      <td>26 countries, stretching from the Red Sea in t...</td>\n",
       "      <td>Africa Eastern and Southern</td>\n",
       "    </tr>\n",
       "    <tr>\n",
       "      <th>2</th>\n",
       "      <td>AFG</td>\n",
       "      <td>South Asia</td>\n",
       "      <td>Low income</td>\n",
       "      <td>The reporting period for national accounts dat...</td>\n",
       "      <td>Afghanistan</td>\n",
       "    </tr>\n",
       "    <tr>\n",
       "      <th>3</th>\n",
       "      <td>AFW</td>\n",
       "      <td>NaN</td>\n",
       "      <td>NaN</td>\n",
       "      <td>22 countries, stretching from the westernmost ...</td>\n",
       "      <td>Africa Western and Central</td>\n",
       "    </tr>\n",
       "    <tr>\n",
       "      <th>4</th>\n",
       "      <td>AGO</td>\n",
       "      <td>Sub-Saharan Africa</td>\n",
       "      <td>Lower middle income</td>\n",
       "      <td>The World Bank systematically assesses the app...</td>\n",
       "      <td>Angola</td>\n",
       "    </tr>\n",
       "    <tr>\n",
       "      <th>...</th>\n",
       "      <td>...</td>\n",
       "      <td>...</td>\n",
       "      <td>...</td>\n",
       "      <td>...</td>\n",
       "      <td>...</td>\n",
       "    </tr>\n",
       "    <tr>\n",
       "      <th>260</th>\n",
       "      <td>XKX</td>\n",
       "      <td>Europe &amp; Central Asia</td>\n",
       "      <td>Upper middle income</td>\n",
       "      <td>NaN</td>\n",
       "      <td>Kosovo</td>\n",
       "    </tr>\n",
       "    <tr>\n",
       "      <th>261</th>\n",
       "      <td>YEM</td>\n",
       "      <td>Middle East &amp; North Africa</td>\n",
       "      <td>Low income</td>\n",
       "      <td>The World Bank systematically assesses the app...</td>\n",
       "      <td>Yemen, Rep.</td>\n",
       "    </tr>\n",
       "    <tr>\n",
       "      <th>262</th>\n",
       "      <td>ZAF</td>\n",
       "      <td>Sub-Saharan Africa</td>\n",
       "      <td>Upper middle income</td>\n",
       "      <td>Fiscal year end: March 31; reporting period fo...</td>\n",
       "      <td>South Africa</td>\n",
       "    </tr>\n",
       "    <tr>\n",
       "      <th>263</th>\n",
       "      <td>ZMB</td>\n",
       "      <td>Sub-Saharan Africa</td>\n",
       "      <td>Lower middle income</td>\n",
       "      <td>National accounts data were rebased to reflect...</td>\n",
       "      <td>Zambia</td>\n",
       "    </tr>\n",
       "    <tr>\n",
       "      <th>264</th>\n",
       "      <td>ZWE</td>\n",
       "      <td>Sub-Saharan Africa</td>\n",
       "      <td>Lower middle income</td>\n",
       "      <td>National Accounts data are reported in Zimbabw...</td>\n",
       "      <td>Zimbabwe</td>\n",
       "    </tr>\n",
       "  </tbody>\n",
       "</table>\n",
       "<p>265 rows × 5 columns</p>\n",
       "</div>"
      ],
      "text/plain": [
       "    Country Code                      Region          IncomeGroup  \\\n",
       "0            ABW   Latin America & Caribbean          High income   \n",
       "1            AFE                         NaN                  NaN   \n",
       "2            AFG                  South Asia           Low income   \n",
       "3            AFW                         NaN                  NaN   \n",
       "4            AGO          Sub-Saharan Africa  Lower middle income   \n",
       "..           ...                         ...                  ...   \n",
       "260          XKX       Europe & Central Asia  Upper middle income   \n",
       "261          YEM  Middle East & North Africa           Low income   \n",
       "262          ZAF          Sub-Saharan Africa  Upper middle income   \n",
       "263          ZMB          Sub-Saharan Africa  Lower middle income   \n",
       "264          ZWE          Sub-Saharan Africa  Lower middle income   \n",
       "\n",
       "                                          SpecialNotes  \\\n",
       "0                                                  NaN   \n",
       "1    26 countries, stretching from the Red Sea in t...   \n",
       "2    The reporting period for national accounts dat...   \n",
       "3    22 countries, stretching from the westernmost ...   \n",
       "4    The World Bank systematically assesses the app...   \n",
       "..                                                 ...   \n",
       "260                                                NaN   \n",
       "261  The World Bank systematically assesses the app...   \n",
       "262  Fiscal year end: March 31; reporting period fo...   \n",
       "263  National accounts data were rebased to reflect...   \n",
       "264  National Accounts data are reported in Zimbabw...   \n",
       "\n",
       "                       TableName  \n",
       "0                          Aruba  \n",
       "1    Africa Eastern and Southern  \n",
       "2                    Afghanistan  \n",
       "3     Africa Western and Central  \n",
       "4                         Angola  \n",
       "..                           ...  \n",
       "260                       Kosovo  \n",
       "261                  Yemen, Rep.  \n",
       "262                 South Africa  \n",
       "263                       Zambia  \n",
       "264                     Zimbabwe  \n",
       "\n",
       "[265 rows x 5 columns]"
      ]
     },
     "execution_count": 5,
     "metadata": {},
     "output_type": "execute_result"
    }
   ],
   "source": [
    "df"
   ]
  },
  {
   "cell_type": "code",
   "execution_count": 7,
   "id": "3edf305e-6baf-4d28-8b62-ddd79cca0be5",
   "metadata": {},
   "outputs": [
    {
     "data": {
      "image/png": "[encoded data removed]",
      "text/plain": [
       "<Figure size 640x480 with 1 Axes>"
      ]
     },
     "metadata": {},
     "output_type": "display_data"
    }
   ],
   "source": [
    "gender_counts = df ['Region'].value_counts()\n",
    "bar_width=0.5\n",
    "x=range(len(gender_counts.index))\n",
    "\n",
    "plt.bar(gender_counts.index,gender_counts.values,color=\"pink\")\n",
    "plt.xlabel('Region')\n",
    "plt.ylabel('Count')\n",
    "plt.title(\"Distribution of Region\")\n",
    "plt.xticks(x, gender_counts.index,rotation=90)\n",
    "plt.tight_layout()\n",
    "plt.show()"
   ]
  },
  {
   "cell_type": "code",
   "execution_count": 9,
   "id": "889a26c8-f599-4267-9a1b-e8b9d0432bac",
   "metadata": {},
   "outputs": [
    {
     "data": {
      "text/plain": [
       "(265, 5)"
      ]
     },
     "execution_count": 9,
     "metadata": {},
     "output_type": "execute_result"
    }
   ],
   "source": [
    "df.shape"
   ]
  },
  {
   "cell_type": "code",
   "execution_count": 11,
   "id": "79166667-48e8-414f-9d78-01fcb5e09e31",
   "metadata": {},
   "outputs": [
    {
     "name": "stdout",
     "output_type": "stream",
     "text": [
      "<class 'pandas.core.frame.DataFrame'>\n",
      "RangeIndex: 265 entries, 0 to 264\n",
      "Data columns (total 5 columns):\n",
      " #   Column        Non-Null Count  Dtype \n",
      "---  ------        --------------  ----- \n",
      " 0   Country Code  265 non-null    object\n",
      " 1   Region        217 non-null    object\n",
      " 2   IncomeGroup   216 non-null    object\n",
      " 3   SpecialNotes  127 non-null    object\n",
      " 4   TableName     265 non-null    object\n",
      "dtypes: object(5)\n",
      "memory usage: 10.5+ KB\n"
     ]
    }
   ],
   "source": [
    "df.info()"
   ]
  },
  {
   "cell_type": "code",
   "execution_count": 13,
   "id": "171c5570-6984-454e-8806-582b2f824982",
   "metadata": {},
   "outputs": [
    {
     "data": {
      "text/html": [
       "<div>\n",
       "<style scoped>\n",
       "    .dataframe tbody tr th:only-of-type {\n",
       "        vertical-align: middle;\n",
       "    }\n",
       "\n",
       "    .dataframe tbody tr th {\n",
       "        vertical-align: top;\n",
       "    }\n",
       "\n",
       "    .dataframe thead th {\n",
       "        text-align: right;\n",
       "    }\n",
       "</style>\n",
       "<table border=\"1\" class=\"dataframe\">\n",
       "  <thead>\n",
       "    <tr style=\"text-align: right;\">\n",
       "      <th></th>\n",
       "      <th>Country Code</th>\n",
       "      <th>Region</th>\n",
       "      <th>IncomeGroup</th>\n",
       "      <th>SpecialNotes</th>\n",
       "      <th>TableName</th>\n",
       "    </tr>\n",
       "  </thead>\n",
       "  <tbody>\n",
       "    <tr>\n",
       "      <th>count</th>\n",
       "      <td>265</td>\n",
       "      <td>217</td>\n",
       "      <td>216</td>\n",
       "      <td>127</td>\n",
       "      <td>265</td>\n",
       "    </tr>\n",
       "    <tr>\n",
       "      <th>unique</th>\n",
       "      <td>265</td>\n",
       "      <td>7</td>\n",
       "      <td>4</td>\n",
       "      <td>113</td>\n",
       "      <td>265</td>\n",
       "    </tr>\n",
       "    <tr>\n",
       "      <th>top</th>\n",
       "      <td>ABW</td>\n",
       "      <td>Europe &amp; Central Asia</td>\n",
       "      <td>High income</td>\n",
       "      <td>Fiscal year end: March 31; reporting period fo...</td>\n",
       "      <td>Aruba</td>\n",
       "    </tr>\n",
       "    <tr>\n",
       "      <th>freq</th>\n",
       "      <td>1</td>\n",
       "      <td>58</td>\n",
       "      <td>85</td>\n",
       "      <td>7</td>\n",
       "      <td>1</td>\n",
       "    </tr>\n",
       "  </tbody>\n",
       "</table>\n",
       "</div>"
      ],
      "text/plain": [
       "       Country Code                 Region  IncomeGroup  \\\n",
       "count           265                    217          216   \n",
       "unique          265                      7            4   \n",
       "top             ABW  Europe & Central Asia  High income   \n",
       "freq              1                     58           85   \n",
       "\n",
       "                                             SpecialNotes TableName  \n",
       "count                                                 127       265  \n",
       "unique                                                113       265  \n",
       "top     Fiscal year end: March 31; reporting period fo...     Aruba  \n",
       "freq                                                    7         1  "
      ]
     },
     "execution_count": 13,
     "metadata": {},
     "output_type": "execute_result"
    }
   ],
   "source": [
    "df.describe()"
   ]
  },
  {
   "cell_type": "code",
   "execution_count": 15,
   "id": "44f73607-4b48-4a0a-a577-27f39ea02e92",
   "metadata": {},
   "outputs": [
    {
     "data": {
      "text/plain": [
       "Country Code      0\n",
       "Region           48\n",
       "IncomeGroup      49\n",
       "SpecialNotes    138\n",
       "TableName         0\n",
       "dtype: int64"
      ]
     },
     "execution_count": 15,
     "metadata": {},
     "output_type": "execute_result"
    }
   ],
   "source": [
    "df.isnull().sum()"
   ]
  },
  {
   "cell_type": "code",
   "execution_count": null,
   "id": "14788004-ad08-4099-b936-f8f40cd2e4f3",
   "metadata": {},
   "outputs": [],
   "source": []
  }
 ],
 "metadata": {
  "kernelspec": {
   "display_name": "Python [conda env:base] *",
   "language": "python",
   "name": "conda-base-py"
  },
  "language_info": {
   "codemirror_mode": {
    "name": "ipython",
    "version": 3
   },
   "file_extension": ".py",
   "mimetype": "text/x-python",
   "name": "python",
   "nbconvert_exporter": "python",
   "pygments_lexer": "ipython3",
   "version": "3.12.7"
  }
 },
 "nbformat": 4,
 "nbformat_minor": 5
}
